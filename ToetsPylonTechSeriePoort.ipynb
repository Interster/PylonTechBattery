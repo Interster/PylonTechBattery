{
 "cells": [
  {
   "cell_type": "code",
   "execution_count": 1,
   "metadata": {},
   "outputs": [
    {
     "name": "stdout",
     "output_type": "stream",
     "text": [
      "/dev/ttyUSB0\n"
     ]
    }
   ],
   "source": [
    "# Toets basiese skryf na die seriepoort\n",
    "import serial\n",
    "ser = serial.Serial('/dev/ttyUSB0')  # open serial port\n",
    "print(ser.name)         # check which port was really used\n",
    "#ser.write(b'hello')     # write a string\n",
    "ser.close()             # close port"
   ]
  },
  {
   "cell_type": "code",
   "execution_count": 2,
   "metadata": {},
   "outputs": [
    {
     "name": "stdout",
     "output_type": "stream",
     "text": [
      "b''\n"
     ]
    }
   ],
   "source": [
    "# Probeer 1200 baud en 115200\n",
    "with serial.Serial('/dev/ttyUSB0', 1200, timeout=1) as ser:\n",
    "    x = ser.read()          # read one byte\n",
    "    s = ser.read(10)        # read up to ten bytes (timeout)\n",
    "    #line = ser.readline()   # read a '\\n' terminated line\n",
    "    \n",
    "print(s)"
   ]
  },
  {
   "cell_type": "code",
   "execution_count": 5,
   "metadata": {},
   "outputs": [],
   "source": [
    "# Deel die heks uitstring op in die dele wat die data bevat soos \n",
    "# die hoeveelheid energie oor in battery\n",
    "\n",
    "\n",
    "def twos_complement(hexstr,bits):\n",
    "    # Verander die heksadesimale getal na 'n heelgetal met 'n teken oftewel 'n \"signed integer\"\n",
    "    # In 'n n-greep twee komplement getallevoorstelling, het die grepe die waardes:\n",
    "    # greep 0 = 2^0\n",
    "    # bit 1 = 2^1\n",
    "    # bit n-2 = -2^(n-2)\n",
    "    # bit n-1 = -2n-1\n",
    "    #\n",
    "    # Maar greep n-1 het waarde 2^(n-1) wanneer dit geen teken het nie, dus is die getal 2^n te hoog.\n",
    "    # Trek dus 2^n af indien greep n-1 'n waarde het\n",
    "\n",
    "    value = int(hexstr,16)\n",
    "    if value & (1 << (bits-1)):\n",
    "        value -= 1 << bits\n",
    "    \n",
    "    return value\n",
    "\n",
    "def wysHeksString(insetstring):\n",
    "    print('Heksadesimale ASCII waarde')\n",
    "    print(insetstring)\n",
    "    print('Heksadesimale string')\n",
    "    getalinheks = bytearray.fromhex(insetstring).decode()\n",
    "    print(getalinheks)\n",
    "    print('Desimale string')\n",
    "    print(int(getalinheks, 16))\n",
    "    \n",
    "    return 0\n",
    "\n",
    "def uitsetGetalHeksString(insetstring):\n",
    "    # Neem die insetstring van die battery ontvang en kry die ASCII waarde daarvan\n",
    "    getalinheks = bytearray.fromhex(insetstring).decode()\n",
    "    # getalinheks word nou omgeskakel na 'n desimale waarde wat gebruik kan word.\n",
    "    uitsetgetal = int(getalinheks, 16)\n",
    "    \n",
    "    return uitsetgetal\n",
    "\n",
    "def uitsetGetalHeksStringSignInt(insetstring):\n",
    "    # Neem die insetstring van die battery ontvang en kry die ASCII waarde daarvan\n",
    "    getalinheks = bytearray.fromhex(insetstring).decode()\n",
    "    # getalinheks word nou omgeskakel na 'n desimale waarde wat gebruik kan word.\n",
    "    uitsetgetal = twos_complement(getalinheks, 16)\n",
    "    \n",
    "    return uitsetgetal\n",
    "\n",
    "\n",
    "def skryfLogLynBattery(leesvanbattery):\n",
    "    a = leesvanbattery\n",
    "    \n",
    "    #Stroom in milliAmpere/100.  Dus vermenigvuldig met 100 en deel deur 1000 om Ampere te kry\n",
    "    stroom = uitsetGetalHeksStringSignInt(a[-78:-70])\n",
    "    #Spanning in milliVolt van hele battery\n",
    "    spanning = uitsetGetalHeksString(a[-70:-62])\n",
    "    #Oorblywende energie in battery\n",
    "    energieOor = uitsetGetalHeksString(a[-62:-54])\n",
    "    # Totale energie in battery\n",
    "    energietotaal = uitsetGetalHeksString(a[-50:-42])\n",
    "    # Siklusse\n",
    "    siklusse = uitsetGetalHeksString(a[-42:-34])\n",
    "        \n",
    "    uitsetloglyn = str(stroom) + ',' + str(spanning) + ',' + str(energieOor) + ',' + str(energietotaal) + ',' + str(siklusse)\n",
    "    \n",
    "    return uitsetloglyn"
   ]
  },
  {
   "cell_type": "code",
   "execution_count": 36,
   "metadata": {},
   "outputs": [
    {
     "name": "stdout",
     "output_type": "stream",
     "text": [
      "Greepstring\n",
      "b'~20014600F07A11010F0DE30DE30DD10DE30DE30DE50DE30DE40DE70DE60DDC0DE80DE80DE80DE7050BEB0BCD0BCD0BCD0BCD0000D051FFFF04FFFF0010012110012110E1D4\\r'\n",
      "Heksadesimale string\n",
      "7e3230303134363030463037413131303130463044453330444533304444313044453330444533304445353044453330444534304445373044453630444443304445383044453830444538304445373035304245423042434430424344304243443042434430303030443035314646464630344646464630303130303132313130303132313130453144340d\n",
      "0,53329,65535,65535,16\n"
     ]
    }
   ],
   "source": [
    "from binascii import unhexlify\n",
    "\n",
    "# Opdrag vanaf paragraaf 5 in seriepoort handleiding\n",
    "bytestosend = '7E3230303134363432453030323031464433350D'\n",
    "\n",
    "# Stuur data 1200 baud.  Dit moet eers teen hierdie spoed gestuur word\n",
    "with serial.Serial('/dev/ttyUSB0', 1200, timeout=5.0) as ser:\n",
    "    x = ser.write(unhexlify(bytestosend)) # Stuur opdrag na die battery\n",
    "    \n",
    "    uitstring = ser.read(1000)\n",
    "\n",
    "# Druk die greepstring (bytestring)\n",
    "print('Greepstring')\n",
    "print(uitstring)\n",
    "\n",
    "# Skakel die greepstring om na heksadesimale string\n",
    "print('Heksadesimale string')\n",
    "a = uitstring.hex()\n",
    "print(a)    \n",
    "\n",
    "print(skryfLogLynBattery(a))"
   ]
  },
  {
   "cell_type": "code",
   "execution_count": 69,
   "metadata": {},
   "outputs": [
    {
     "name": "stdout",
     "output_type": "stream",
     "text": [
      "Aantal siklusse\n",
      "Heksadesimale ASCII waarde\n",
      "31304532\n",
      "Heksadesimale string\n",
      "10E2\n",
      "Desimale string\n",
      "4322\n",
      "Totale energie\n",
      "Heksadesimale ASCII waarde\n",
      "32313130\n",
      "Heksadesimale string\n",
      "2110\n",
      "Desimale string\n",
      "8464\n"
     ]
    },
    {
     "data": {
      "text/plain": [
       "0"
      ]
     },
     "execution_count": 69,
     "metadata": {},
     "output_type": "execute_result"
    }
   ],
   "source": [
    "print('Aantal siklusse')\n",
    "#31313030313231\n",
    "#31304532\n",
    "wysHeksString(a[-14:-6])\n",
    "print('Totale energie')\n",
    "wysHeksString(a[-18:-10])\n",
    "\n",
    "#getalinheks = bytearray.fromhex(\"42463638\").decode()\n",
    "#print(getalinheks)\n",
    "#print(int(getalinheks, 16))"
   ]
  },
  {
   "cell_type": "markdown",
   "metadata": {},
   "source": [
    "# Voorbeeld uit handleiding\n",
    "\n",
    "`7E` - Begin inligting\n",
    "`32 30` - Weergawe \n",
    "`30 31` - Adres \n",
    "`34 36` - Kode vir litium battery\n",
    "`30 30` - RTN Return kode 30 30 is 00 is alles het vlot verloop \n",
    "`43 30 36 45` - Lengte of LEN is die lengte van die data (met CHKSUM ingesluit) \n",
    "`31 31 30 31` - INFOFLAG\n",
    "\n",
    "Data begin\n",
    "`30 46` - Aantal selle\n",
    "30 44 34 35 - Sel 1 Volts\n",
    "30 44 34 34 \n",
    "30 44 34 35 \n",
    "30 44 34 34 30 44 34 35 30 44 34\n",
    "34 30 44 33 45 30 44 34 35 30 44 34 41 30 44 34 41 30 44 34 42 30 44 34\n",
    "41 30 44 34 41 30 44 34 41 30 44 34 41 30 35 30 42 43 33 30 42 43 33 30\n",
    "42 43 33 30 42 43 44 30 42 43 44 30 30 30 30 43 37 32 35 42 46 36 38 30\n",
    "32 \n",
    "`43 33 35 30` - Totale energie (mAh) \n",
    "`30 30 30 32` - Aantal siklusse\n",
    "`45 35 35 33` - Toetssom of CHKSUM\n",
    "`0D` - Einde van inligting\n",
    "\n",
    "# Voorbeeld uitset\n",
    "`7e` - Begin inligting  \n",
    "`32 30` - Weergawe  \n",
    "`30 31` - Adres  \n",
    "`34 36` - Kode vir litium battery  \n",
    "`30 30` - RTN Return kode 30 30 is 00 is alles het vlot verloop  \n",
    "`46 30 37 41` - Lengte  \n",
    "`31 31 30 31` - INFOFLAG  \n",
    "\n",
    "Data begin  \n",
    "`30 46` - Aantal selle (15)  \n",
    "`30 44 45 32` - Sel 1 Volts  \n",
    "`30444532` - Sel 2 Volts  \n",
    "`30444430` - Sel 3 Volts  \n",
    "`30444533` - Sel 4 Volts  \n",
    "`30444533` - Sel 5 Volts  \n",
    "`30444534` - Sel 6 Volts  \n",
    "`30444532` - Sel 7 Volts  \n",
    "`30444531` - Sel 8 Volts  \n",
    "`30444538` - Sel 9 Volts  \n",
    "`30444537` - Sel 10 Volts  \n",
    "`30444444` - Sel 11 Volts  \n",
    "`30444537` - Sel 12 Volts  \n",
    "`30444538` - Sel 13 Volts  \n",
    "`30444537` - Sel 14 Volts  \n",
    "`30444537` - Sel 15 Volts   \n",
    "`30 35` - Aantal Temperatuur meetpunte  \n",
    "`30424542` - Temperatuur 1  \n",
    "`30424333` - Temperatuur 2  \n",
    "`30424333` - Temperatuur 3  \n",
    "`30424333` - Temperatuur 4  \n",
    "`30424333` - Temperatuur 5 in Kelvin maal 10, dus is hierdie waarde van 3011 -> 301.1 Kelvin oftewel 28.1 grade Celcius.  \n",
    "\n",
    "Stroom en spanning data:  \n",
    "`30303030` - Stroom in milliAmpere  \n",
    "`44303441` - Spanning in milliVolt van hele battery (53322mV of 53.3V)  \n",
    "`46464646` - Oorblywende energie in battery (65535mAh).  Hierdie battery is 100% vol of SOC = 100% as jy hierdie waarde deur die totale energie in battery deel.  \n",
    "`3034` - \"User-defined\" waarde.  In hierdie geval 4  \n",
    "`46464646` - Totale energie in battery (65535mAh)  \n",
    "`30303130` - Aantal siklusse van battery.  Die battery het al 16 volle siklusse gedoen.  \n",
    "\n",
    "`303132313130303132313130` - Ekstra info  \n",
    "`45323130` - Checksum  \n",
    "`0d` - Einde van inligting  "
   ]
  },
  {
   "cell_type": "code",
   "execution_count": 4,
   "metadata": {},
   "outputs": [
    {
     "name": "stdout",
     "output_type": "stream",
     "text": [
      "Heksadesimale ASCII waarde\n",
      "30303130\n",
      "Heksadesimale string\n",
      "0010\n",
      "Desimale string\n",
      "16\n",
      "30303030\n",
      "44303532\n",
      "46464646\n",
      "46464646\n",
      "30303130\n",
      "0,53330,65535,65535,16\n"
     ]
    }
   ],
   "source": [
    "wysHeksString('30303130')\n",
    "#Stroom in milliAmpere\n",
    "print(a[-78:-70])\n",
    "#Spanning in milliVolt van hele battery\n",
    "print(a[-70:-62])\n",
    "#Oorblywende energie in battery\n",
    "print(a[-62:-54])\n",
    "# Totale energie in battery\n",
    "print(a[-50:-42])\n",
    "# Siklusse\n",
    "print(a[-42:-34])\n",
    "\n",
    "print(skryfLogLynBattery(a))"
   ]
  },
  {
   "cell_type": "code",
   "execution_count": null,
   "metadata": {},
   "outputs": [],
   "source": []
  },
  {
   "cell_type": "code",
   "execution_count": 3,
   "metadata": {
    "scrolled": true
   },
   "outputs": [
    {
     "name": "stdout",
     "output_type": "stream",
     "text": [
      "46464636\n",
      "FFF6\n"
     ]
    }
   ],
   "source": [
    "# Voorbeeld string\n",
    "a='7e3230303134363030463037413131303130463043454630434631304346313043463130434631304346313043463030434631304345453043454630434630304346303043463130434631304346303035304245313042433330424333304243333042423946464636433231344646464630344646464630303130303131383634303132313130453144440d'\n",
    "print(a[-78:-70])\n",
    "getalinheks = bytearray.fromhex(a[-78:-70]).decode()\n",
    "print(getalinheks)"
   ]
  },
  {
   "cell_type": "code",
   "execution_count": 37,
   "metadata": {
    "scrolled": true
   },
   "outputs": [],
   "source": [
    "import datetime\n",
    "import time\n",
    "from binascii import unhexlify\n",
    "import serial\n",
    "\n",
    "# Log parameters\n",
    "monsterfrekwensie = 30 # [sekondes]\n",
    "totalesekondes = 60*5 #24*60*60 # [sekondes]\n",
    "\n",
    "# Opdrag vanaf paragraaf 5 in seriepoort handleiding:  Lees analoog data\n",
    "bytestosend = '7E3230303134363432453030323031464433350D'\n",
    "\n",
    "begintyd = datetime.datetime.now()\n",
    "\n",
    "# Maak leer oop\n",
    "leer = open('PylonTech_' + str(datetime.date.today()) + '.log', 'w')\n",
    "leer.write('DatumTyd, Stroom mA_100, Spanning mV, Energie oor mAh, Totale energie mAh, Siklusse\\n')\n",
    "\n",
    "while (datetime.datetime.now() - begintyd).seconds < totalesekondes:\n",
    "    # Stuur data 1200 baud.  Dit moet eers teen hierdie spoed gestuur word\n",
    "    with serial.Serial('/dev/ttyUSB0', 1200, timeout=5.0) as ser:\n",
    "        x = ser.write(unhexlify(bytestosend)) # Stuur opdrag na die battery\n",
    "        uitstring = ser.read(1000)\n",
    "    \n",
    "    # Log data na leer\n",
    "    leer.write(str(datetime.datetime.now()) + ',' + skryfLogLynBattery(a))\n",
    "    leer.write('\\n')\n",
    "    time.sleep(monsterfrekwensie - 5)\n",
    "\n",
    "leer.close()\n"
   ]
  },
  {
   "cell_type": "code",
   "execution_count": 27,
   "metadata": {},
   "outputs": [
    {
     "name": "stdout",
     "output_type": "stream",
     "text": [
      "1\n"
     ]
    }
   ],
   "source": [
    "begintyd = datetime.datetime.now()\n",
    "time.sleep(1)\n",
    "totaletyd = datetime.datetime.now() - begintyd\n",
    "print(totaletyd.seconds)"
   ]
  }
 ],
 "metadata": {
  "hide_input": false,
  "kernelspec": {
   "display_name": "Python 3",
   "language": "python",
   "name": "python3"
  },
  "language_info": {
   "codemirror_mode": {
    "name": "ipython",
    "version": 3
   },
   "file_extension": ".py",
   "mimetype": "text/x-python",
   "name": "python",
   "nbconvert_exporter": "python",
   "pygments_lexer": "ipython3",
   "version": "3.6.3"
  },
  "toc": {
   "base_numbering": 1,
   "nav_menu": {},
   "number_sections": true,
   "sideBar": true,
   "skip_h1_title": false,
   "title_cell": "Table of Contents",
   "title_sidebar": "Contents",
   "toc_cell": false,
   "toc_position": {},
   "toc_section_display": true,
   "toc_window_display": false
  },
  "varInspector": {
   "cols": {
    "lenName": 16,
    "lenType": 16,
    "lenVar": 40
   },
   "kernels_config": {
    "python": {
     "delete_cmd_postfix": "",
     "delete_cmd_prefix": "del ",
     "library": "var_list.py",
     "varRefreshCmd": "print(var_dic_list())"
    },
    "r": {
     "delete_cmd_postfix": ") ",
     "delete_cmd_prefix": "rm(",
     "library": "var_list.r",
     "varRefreshCmd": "cat(var_dic_list()) "
    }
   },
   "types_to_exclude": [
    "module",
    "function",
    "builtin_function_or_method",
    "instance",
    "_Feature"
   ],
   "window_display": false
  }
 },
 "nbformat": 4,
 "nbformat_minor": 2
}
