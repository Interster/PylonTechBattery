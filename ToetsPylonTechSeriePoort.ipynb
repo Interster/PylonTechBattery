{
 "cells": [
  {
   "cell_type": "code",
   "execution_count": 17,
   "metadata": {
    "scrolled": true
   },
   "outputs": [
    {
     "name": "stdout",
     "output_type": "stream",
     "text": [
      "2352\n",
      "0.98\n",
      "49000\n"
     ]
    }
   ],
   "source": [
    "\n",
    "print(49*48)\n",
    "print(2.352/2.4)\n",
    "print(int('0xBF68',0))"
   ]
  },
  {
   "cell_type": "code",
   "execution_count": 18,
   "metadata": {},
   "outputs": [
    {
     "name": "stdout",
     "output_type": "stream",
     "text": [
      "/dev/ttyUSB0\n"
     ]
    }
   ],
   "source": [
    "# Toets basiese skryf na die seriepoort\n",
    "import serial\n",
    "ser = serial.Serial('/dev/ttyUSB0')  # open serial port\n",
    "print(ser.name)         # check which port was really used\n",
    "#ser.write(b'hello')     # write a string\n",
    "ser.close()             # close port"
   ]
  },
  {
   "cell_type": "code",
   "execution_count": 21,
   "metadata": {},
   "outputs": [
    {
     "name": "stdout",
     "output_type": "stream",
     "text": [
      "b''\n"
     ]
    }
   ],
   "source": [
    "# Probeer 1200 baud en 115200\n",
    "with serial.Serial('/dev/ttyUSB0', 1200, timeout=1) as ser:\n",
    "    x = ser.read()          # read one byte\n",
    "    s = ser.read(10)        # read up to ten bytes (timeout)\n",
    "    #line = ser.readline()   # read a '\\n' terminated line\n",
    "    \n",
    "print(s)"
   ]
  },
  {
   "cell_type": "code",
   "execution_count": 24,
   "metadata": {},
   "outputs": [
    {
     "name": "stdout",
     "output_type": "stream",
     "text": [
      "b'\\x02\\x81\\xe1\\xb1'\n"
     ]
    }
   ],
   "source": [
    "from binascii import unhexlify\n",
    "string='0281E1B1'\n",
    "print(unhexlify(string))"
   ]
  },
  {
   "cell_type": "code",
   "execution_count": 58,
   "metadata": {},
   "outputs": [
    {
     "name": "stdout",
     "output_type": "stream",
     "text": [
      "b'~20014600F07A11010F0DE40DE40DD10DE60DE50DE50DE30DE20DEA0DE80DDE0DEB0DE90DE90DE8050BF50BC30BC30BC30BC30000D063FFFF04FFFF000F012110012110E1EC\\r'\n"
     ]
    }
   ],
   "source": [
    "bytestosend = '7E3230303134363432453030323031464433350D'\n",
    "\n",
    "# Probeer 1200 baud en 115200\n",
    "with serial.Serial('/dev/ttyUSB0', 1200, timeout=5.0) as ser:\n",
    "    x = ser.write(unhexlify(bytestosend)) # Stuur opdrag na die battery\n",
    "    \n",
    "    uitstring = ser.read(1000)\n",
    "\n",
    "print(uitstring)\n",
    "\n",
    "    \n"
   ]
  },
  {
   "cell_type": "code",
   "execution_count": 59,
   "metadata": {},
   "outputs": [
    {
     "name": "stdout",
     "output_type": "stream",
     "text": [
      "7e3230303134363030463037413131303130463044453430444534304444313044453630444535304445353044453330444532304445413044453830444445304445423044453930444539304445383035304246353042433330424333304243333042433330303030443036334646464630344646464630303046303132313130303132313130453145430d\n",
      "b'~20014600F07A11010F0DE40DE40DD10DE60DE50DE50DE30DE20DEA0DE80DDE0DEB0DE90DE90DE8050BF50BC30BC30BC30BC30000D063FFFF04FFFF000F012110012110E1EC\\r'\n",
      "e\n",
      "BF68\n",
      "49000\n"
     ]
    }
   ],
   "source": [
    "#uitstring.decode(\"hex\")\n",
    "#bytearray.fromhex(\"7061756c\").decode()\n",
    "a = uitstring.hex()\n",
    "print(a)\n",
    "print(uitstring)\n",
    "print(a[1])\n",
    "\n",
    "getalinheks = bytearray.fromhex(\"42463638\").decode()\n",
    "print(getalinheks)\n",
    "print(int(getalinheks, 16))"
   ]
  },
  {
   "cell_type": "code",
   "execution_count": null,
   "metadata": {},
   "outputs": [],
   "source": []
  },
  {
   "cell_type": "code",
   "execution_count": 11,
   "metadata": {},
   "outputs": [
    {
     "name": "stdout",
     "output_type": "stream",
     "text": [
      "853\n"
     ]
    },
    {
     "ename": "NotImplementedError",
     "evalue": "Trying to write to a readonly bus?",
     "output_type": "error",
     "traceback": [
      "\u001b[0;31m---------------------------------------------------------------------------\u001b[0m",
      "\u001b[0;31mNotImplementedError\u001b[0m                       Traceback (most recent call last)",
      "\u001b[0;32m<ipython-input-11-76469356fac6>\u001b[0m in \u001b[0;36m<module>\u001b[0;34m()\u001b[0m\n\u001b[1;32m      5\u001b[0m \u001b[0mprint\u001b[0m\u001b[0;34m(\u001b[0m\u001b[0mboodskap\u001b[0m\u001b[0;34m.\u001b[0m\u001b[0marbitration_id\u001b[0m\u001b[0;34m)\u001b[0m\u001b[0;34m\u001b[0m\u001b[0m\n\u001b[1;32m      6\u001b[0m \u001b[0mbus\u001b[0m \u001b[0;34m=\u001b[0m \u001b[0mcan\u001b[0m\u001b[0;34m.\u001b[0m\u001b[0mbus\u001b[0m\u001b[0;34m.\u001b[0m\u001b[0mBusABC\u001b[0m\u001b[0;34m(\u001b[0m\u001b[0mchannel\u001b[0m\u001b[0;34m=\u001b[0m\u001b[0;34m\"/dev/ttyUSB0\"\u001b[0m\u001b[0;34m,\u001b[0m\u001b[0mbaudrate\u001b[0m\u001b[0;34m=\u001b[0m\u001b[0;36m500000\u001b[0m\u001b[0;34m,\u001b[0m\u001b[0mtimeout\u001b[0m\u001b[0;34m=\u001b[0m\u001b[0;36m0.1\u001b[0m\u001b[0;34m)\u001b[0m\u001b[0;34m\u001b[0m\u001b[0m\n\u001b[0;32m----> 7\u001b[0;31m \u001b[0mbus\u001b[0m\u001b[0;34m.\u001b[0m\u001b[0msend\u001b[0m\u001b[0;34m(\u001b[0m\u001b[0mboodskap\u001b[0m\u001b[0;34m)\u001b[0m\u001b[0;34m\u001b[0m\u001b[0m\n\u001b[0m\u001b[1;32m      8\u001b[0m \u001b[0;34m\u001b[0m\u001b[0m\n\u001b[1;32m      9\u001b[0m \u001b[0mkryterug\u001b[0m \u001b[0;34m=\u001b[0m \u001b[0mbus\u001b[0m\u001b[0;34m.\u001b[0m\u001b[0mrecv\u001b[0m\u001b[0;34m(\u001b[0m\u001b[0;34m)\u001b[0m\u001b[0;34m\u001b[0m\u001b[0m\n",
      "\u001b[0;32m/usr/local/lib/python3.6/site-packages/can/bus.py\u001b[0m in \u001b[0;36msend\u001b[0;34m(self, msg, timeout)\u001b[0m\n\u001b[1;32m    165\u001b[0m             \u001b[0;32mif\u001b[0m \u001b[0mthe\u001b[0m \u001b[0mmessage\u001b[0m \u001b[0mcould\u001b[0m \u001b[0;32mnot\u001b[0m \u001b[0mbe\u001b[0m \u001b[0msent\u001b[0m\u001b[0;34m\u001b[0m\u001b[0m\n\u001b[1;32m    166\u001b[0m         \"\"\"\n\u001b[0;32m--> 167\u001b[0;31m         \u001b[0;32mraise\u001b[0m \u001b[0mNotImplementedError\u001b[0m\u001b[0;34m(\u001b[0m\u001b[0;34m\"Trying to write to a readonly bus?\"\u001b[0m\u001b[0;34m)\u001b[0m\u001b[0;34m\u001b[0m\u001b[0m\n\u001b[0m\u001b[1;32m    168\u001b[0m \u001b[0;34m\u001b[0m\u001b[0m\n\u001b[1;32m    169\u001b[0m     \u001b[0;32mdef\u001b[0m \u001b[0msend_periodic\u001b[0m\u001b[0;34m(\u001b[0m\u001b[0mself\u001b[0m\u001b[0;34m,\u001b[0m \u001b[0mmsg\u001b[0m\u001b[0;34m,\u001b[0m \u001b[0mperiod\u001b[0m\u001b[0;34m,\u001b[0m \u001b[0mduration\u001b[0m\u001b[0;34m=\u001b[0m\u001b[0;32mNone\u001b[0m\u001b[0;34m,\u001b[0m \u001b[0mstore_task\u001b[0m\u001b[0;34m=\u001b[0m\u001b[0;32mTrue\u001b[0m\u001b[0;34m)\u001b[0m\u001b[0;34m:\u001b[0m\u001b[0;34m\u001b[0m\u001b[0m\n",
      "\u001b[0;31mNotImplementedError\u001b[0m: Trying to write to a readonly bus?"
     ]
    }
   ],
   "source": [
    "import can\n",
    "\n",
    "# SOC\n",
    "boodskap = can.Message(arbitration_id=0x355)\n",
    "print(boodskap.arbitration_id)\n",
    "bus = can.bus.BusABC(channel=\"/dev/ttyUSB0\",baudrate=500000,timeout=0.1)\n",
    "bus.send(boodskap)\n",
    "\n",
    "kryterug = bus.recv()\n",
    "\n",
    "for boodskap in bus:\n",
    "    print(msg)"
   ]
  },
  {
   "cell_type": "code",
   "execution_count": null,
   "metadata": {},
   "outputs": [],
   "source": []
  },
  {
   "cell_type": "code",
   "execution_count": null,
   "metadata": {},
   "outputs": [],
   "source": []
  },
  {
   "cell_type": "code",
   "execution_count": 26,
   "metadata": {},
   "outputs": [],
   "source": [
    "# Toets die pylontech seriepoort kommunikasie\n",
    "import sys\n",
    "import pylonpacket\n",
    "import logging\n",
    "import serial\n",
    "import time\n",
    "\n",
    "\n",
    "\n",
    "class PylonCom:\n",
    "    PORT = \"/dev/ttyUSB0\"\n",
    "    BAUD = 115200\n",
    "    \n",
    "    def __init__(self):\n",
    "        self.sp = serial.Serial(PylonCom.PORT,PylonCom.BAUD,timeout=0.5)\n",
    "\n",
    "    def GetReply(self, request, reply_type):\n",
    "        self.sp.write(request.GetAsciiBytes())\n",
    "        line = bytearray()\n",
    "        while True:\n",
    "            c = self.sp.read(1)\n",
    "            if c:\n",
    "                line.extend(c)\n",
    "                if c[0] == 0x0D:\n",
    "                    break\n",
    "            else:\n",
    "                break\n",
    "        logging.debug(\"Received sentence %s\",line)\n",
    "        preply = pylonpacket.PylonPacket.Parse(line, reply_type)\n",
    "        return preply\n",
    "\n",
    "    def close(self):\n",
    "        self.sp.close()\n",
    "\n"
   ]
  },
  {
   "cell_type": "code",
   "execution_count": 32,
   "metadata": {},
   "outputs": [
    {
     "name": "stdout",
     "output_type": "stream",
     "text": [
      "Get system parameter: VER: 0x20, ADR: 0x02, CID1: 0x46, CID2: 0x47, LENGTH: 0, len(INFO): 0, CHKSUM: 0x0000\n",
      "Get system parameter reply: None\n"
     ]
    }
   ],
   "source": [
    "pc = PylonCom()\n",
    "\n",
    "ppIn = pylonpacket.PPGetSystemParameter()\n",
    "print(\"Get system parameter:\",ppIn)\n",
    "ppOut = pc.GetReply(ppIn, pylonpacket.PPSystemParameter)\n",
    "print(\"Get system parameter reply:\",ppOut)"
   ]
  },
  {
   "cell_type": "code",
   "execution_count": 30,
   "metadata": {},
   "outputs": [
    {
     "name": "stdout",
     "output_type": "stream",
     "text": [
      "Get system parameter: VER: 0x20, ADR: 0x02, CID1: 0x46, CID2: 0x47, LENGTH: 0, len(INFO): 0, CHKSUM: 0x0000\n",
      "Get series number: VER: 0x20, ADR: 0x02, CID1: 0x46, CID2: 0x93, LENGTH: 2, len(INFO): 1, CHKSUM: 0x0000, Command: 2\n"
     ]
    },
    {
     "ename": "ValueError",
     "evalue": "Invalid packet format",
     "output_type": "error",
     "traceback": [
      "\u001b[0;31m---------------------------------------------------------------------------\u001b[0m",
      "\u001b[0;31mValueError\u001b[0m                                Traceback (most recent call last)",
      "\u001b[0;32m<ipython-input-30-bfedc3b1d0c8>\u001b[0m in \u001b[0;36m<module>\u001b[0;34m()\u001b[0m\n\u001b[1;32m      9\u001b[0m \u001b[0mppIn\u001b[0m\u001b[0;34m.\u001b[0m\u001b[0mCommand\u001b[0m \u001b[0;34m=\u001b[0m \u001b[0;36m0x02\u001b[0m\u001b[0;34m\u001b[0m\u001b[0m\n\u001b[1;32m     10\u001b[0m \u001b[0mprint\u001b[0m\u001b[0;34m(\u001b[0m\u001b[0;34m\"Get series number:\"\u001b[0m\u001b[0;34m,\u001b[0m\u001b[0mppIn\u001b[0m\u001b[0;34m)\u001b[0m\u001b[0;34m\u001b[0m\u001b[0m\n\u001b[0;32m---> 11\u001b[0;31m \u001b[0mppOut\u001b[0m \u001b[0;34m=\u001b[0m \u001b[0mpc\u001b[0m\u001b[0;34m.\u001b[0m\u001b[0mGetReply\u001b[0m\u001b[0;34m(\u001b[0m\u001b[0mppIn\u001b[0m\u001b[0;34m,\u001b[0m \u001b[0mpylonpacket\u001b[0m\u001b[0;34m.\u001b[0m\u001b[0mPPSeriesNumber\u001b[0m\u001b[0;34m)\u001b[0m\u001b[0;34m\u001b[0m\u001b[0m\n\u001b[0m\u001b[1;32m     12\u001b[0m \u001b[0mprint\u001b[0m\u001b[0;34m(\u001b[0m\u001b[0;34m\"Get series number reply:\"\u001b[0m\u001b[0;34m,\u001b[0m\u001b[0mppOut\u001b[0m\u001b[0;34m)\u001b[0m \u001b[0;31m#,ppOut.info.hex())\u001b[0m\u001b[0;34m\u001b[0m\u001b[0m\n\u001b[1;32m     13\u001b[0m \u001b[0;34m\u001b[0m\u001b[0m\n",
      "\u001b[0;32m<ipython-input-26-3dc0e2e859e4>\u001b[0m in \u001b[0;36mGetReply\u001b[0;34m(self, request, reply_type)\u001b[0m\n\u001b[1;32m     27\u001b[0m                 \u001b[0;32mbreak\u001b[0m\u001b[0;34m\u001b[0m\u001b[0m\n\u001b[1;32m     28\u001b[0m         \u001b[0mlogging\u001b[0m\u001b[0;34m.\u001b[0m\u001b[0mdebug\u001b[0m\u001b[0;34m(\u001b[0m\u001b[0;34m\"Received sentence %s\"\u001b[0m\u001b[0;34m,\u001b[0m\u001b[0mline\u001b[0m\u001b[0;34m)\u001b[0m\u001b[0;34m\u001b[0m\u001b[0m\n\u001b[0;32m---> 29\u001b[0;31m         \u001b[0mpreply\u001b[0m \u001b[0;34m=\u001b[0m \u001b[0mpylonpacket\u001b[0m\u001b[0;34m.\u001b[0m\u001b[0mPylonPacket\u001b[0m\u001b[0;34m.\u001b[0m\u001b[0mParse\u001b[0m\u001b[0;34m(\u001b[0m\u001b[0mline\u001b[0m\u001b[0;34m,\u001b[0m \u001b[0mreply_type\u001b[0m\u001b[0;34m)\u001b[0m\u001b[0;34m\u001b[0m\u001b[0m\n\u001b[0m\u001b[1;32m     30\u001b[0m         \u001b[0;32mreturn\u001b[0m \u001b[0mpreply\u001b[0m\u001b[0;34m\u001b[0m\u001b[0m\n\u001b[1;32m     31\u001b[0m \u001b[0;34m\u001b[0m\u001b[0m\n",
      "\u001b[0;32m~/gitclonetemp/PylonTechBattery/pylonpacket.py\u001b[0m in \u001b[0;36mParse\u001b[0;34m(ascii, packet_type)\u001b[0m\n\u001b[1;32m    102\u001b[0m         \u001b[0;31m#logging.debug(\"Value to decode is %s\",ascii)\u001b[0m\u001b[0;34m\u001b[0m\u001b[0;34m\u001b[0m\u001b[0m\n\u001b[1;32m    103\u001b[0m         \u001b[0;32mif\u001b[0m \u001b[0mascii\u001b[0m\u001b[0;34m[\u001b[0m\u001b[0;36m0\u001b[0m\u001b[0;34m]\u001b[0m \u001b[0;34m!=\u001b[0m \u001b[0;36m0x7E\u001b[0m \u001b[0;32mor\u001b[0m \u001b[0mascii\u001b[0m\u001b[0;34m[\u001b[0m\u001b[0;34m-\u001b[0m\u001b[0;36m1\u001b[0m\u001b[0;34m]\u001b[0m \u001b[0;34m!=\u001b[0m \u001b[0;36m0x0D\u001b[0m\u001b[0;34m:\u001b[0m\u001b[0;34m\u001b[0m\u001b[0m\n\u001b[0;32m--> 104\u001b[0;31m             \u001b[0;32mraise\u001b[0m \u001b[0mValueError\u001b[0m\u001b[0;34m(\u001b[0m\u001b[0;34m\"Invalid packet format\"\u001b[0m\u001b[0;34m)\u001b[0m\u001b[0;34m\u001b[0m\u001b[0m\n\u001b[0m\u001b[1;32m    105\u001b[0m         \u001b[0mcontent\u001b[0m\u001b[0;34m=\u001b[0m\u001b[0mascii\u001b[0m\u001b[0;34m[\u001b[0m\u001b[0;36m1\u001b[0m\u001b[0;34m:\u001b[0m\u001b[0;34m-\u001b[0m\u001b[0;36m1\u001b[0m\u001b[0;34m]\u001b[0m\u001b[0;34m.\u001b[0m\u001b[0mdecode\u001b[0m\u001b[0;34m(\u001b[0m\u001b[0;34m)\u001b[0m\u001b[0;34m\u001b[0m\u001b[0m\n\u001b[1;32m    106\u001b[0m         \u001b[0mlogging\u001b[0m\u001b[0;34m.\u001b[0m\u001b[0mdebug\u001b[0m\u001b[0;34m(\u001b[0m\u001b[0;34m\"Content of packet: %s\"\u001b[0m\u001b[0;34m,\u001b[0m\u001b[0mcontent\u001b[0m\u001b[0;34m)\u001b[0m\u001b[0;34m\u001b[0m\u001b[0m\n",
      "\u001b[0;31mValueError\u001b[0m: Invalid packet format"
     ]
    }
   ],
   "source": [
    "pc = PylonCom()\n",
    "\n",
    "ppIn = pylonpacket.PPGetSystemParameter()\n",
    "print(\"Get system parameter:\",ppIn)\n",
    "#ppOut = pc.GetReply(ppIn, pylonpacket.PPSystemParameter)\n",
    "#print(\"Get system parameter reply:\",ppOut)\n",
    "\n",
    "ppIn = pylonpacket.PPGetSeriesNumber()\n",
    "ppIn.Command = 0x02\n",
    "print(\"Get series number:\",ppIn)\n",
    "ppOut = pc.GetReply(ppIn, pylonpacket.PPSeriesNumber)\n",
    "print(\"Get series number reply:\",ppOut) #,ppOut.info.hex())\n",
    "\n",
    "for adr in range(2,3):\n",
    "    print(\"Conectiong to addr\",adr)\n",
    "    ppIn = pylonpacket.PPGetChargeManagementInformation()\n",
    "    ppIn.Command = adr\n",
    "    ppIn.ADR = adr\n",
    "    #print(\"Get charge info:\",ppIn)\n",
    "    ppOut = pc.GetReply(ppIn, pylonpacket.PPChargeManagementInformation)\n",
    "    print(\"Get charge info reply:\",ppOut)\n",
    "      \n",
    "    #return\n",
    "    ppIn = pylonpacket.PPGetAnalogValue()\n",
    "    ppIn.Command = adr\n",
    "    ppIn.ADR = adr\n",
    "    #print(\"Get analog:\",ppIn)\n",
    "    ppOut = pc.GetReply(ppIn, pylonpacket.PPAnalogValue)\n",
    "    print(\"Get analog reply:\",ppOut)"
   ]
  },
  {
   "cell_type": "code",
   "execution_count": 35,
   "metadata": {},
   "outputs": [
    {
     "name": "stdout",
     "output_type": "stream",
     "text": [
      "Get manufacturer info: VER: 0x20, ADR: 0x02, CID1: 0x46, CID2: 0x51, LENGTH: 0, len(INFO): 0, CHKSUM: 0x0000\n"
     ]
    },
    {
     "ename": "ValueError",
     "evalue": "Invalid packet format",
     "output_type": "error",
     "traceback": [
      "\u001b[0;31m---------------------------------------------------------------------------\u001b[0m",
      "\u001b[0;31mValueError\u001b[0m                                Traceback (most recent call last)",
      "\u001b[0;32m<ipython-input-35-380b5d3bf899>\u001b[0m in \u001b[0;36m<module>\u001b[0;34m()\u001b[0m\n\u001b[1;32m      3\u001b[0m \u001b[0mppIn\u001b[0m\u001b[0;34m=\u001b[0m\u001b[0mpylonpacket\u001b[0m\u001b[0;34m.\u001b[0m\u001b[0mPPGetManufacturerInfo\u001b[0m\u001b[0;34m(\u001b[0m\u001b[0;34m)\u001b[0m\u001b[0;34m\u001b[0m\u001b[0m\n\u001b[1;32m      4\u001b[0m \u001b[0mprint\u001b[0m\u001b[0;34m(\u001b[0m\u001b[0;34m\"Get manufacturer info:\"\u001b[0m\u001b[0;34m,\u001b[0m\u001b[0mppIn\u001b[0m\u001b[0;34m)\u001b[0m\u001b[0;34m\u001b[0m\u001b[0m\n\u001b[0;32m----> 5\u001b[0;31m \u001b[0mppOut\u001b[0m\u001b[0;34m=\u001b[0m\u001b[0mpc\u001b[0m\u001b[0;34m.\u001b[0m\u001b[0mGetReply\u001b[0m\u001b[0;34m(\u001b[0m\u001b[0mppIn\u001b[0m\u001b[0;34m,\u001b[0m \u001b[0mpylonpacket\u001b[0m\u001b[0;34m.\u001b[0m\u001b[0mPPManufacturerInfo\u001b[0m\u001b[0;34m)\u001b[0m\u001b[0;34m\u001b[0m\u001b[0m\n\u001b[0m\u001b[1;32m      6\u001b[0m \u001b[0mprint\u001b[0m\u001b[0;34m(\u001b[0m\u001b[0;34m\"Get manufacturer info reply:\"\u001b[0m\u001b[0;34m,\u001b[0m\u001b[0mppOut\u001b[0m\u001b[0;34m)\u001b[0m\u001b[0;34m\u001b[0m\u001b[0m\n",
      "\u001b[0;32m<ipython-input-26-3dc0e2e859e4>\u001b[0m in \u001b[0;36mGetReply\u001b[0;34m(self, request, reply_type)\u001b[0m\n\u001b[1;32m     27\u001b[0m                 \u001b[0;32mbreak\u001b[0m\u001b[0;34m\u001b[0m\u001b[0m\n\u001b[1;32m     28\u001b[0m         \u001b[0mlogging\u001b[0m\u001b[0;34m.\u001b[0m\u001b[0mdebug\u001b[0m\u001b[0;34m(\u001b[0m\u001b[0;34m\"Received sentence %s\"\u001b[0m\u001b[0;34m,\u001b[0m\u001b[0mline\u001b[0m\u001b[0;34m)\u001b[0m\u001b[0;34m\u001b[0m\u001b[0m\n\u001b[0;32m---> 29\u001b[0;31m         \u001b[0mpreply\u001b[0m \u001b[0;34m=\u001b[0m \u001b[0mpylonpacket\u001b[0m\u001b[0;34m.\u001b[0m\u001b[0mPylonPacket\u001b[0m\u001b[0;34m.\u001b[0m\u001b[0mParse\u001b[0m\u001b[0;34m(\u001b[0m\u001b[0mline\u001b[0m\u001b[0;34m,\u001b[0m \u001b[0mreply_type\u001b[0m\u001b[0;34m)\u001b[0m\u001b[0;34m\u001b[0m\u001b[0m\n\u001b[0m\u001b[1;32m     30\u001b[0m         \u001b[0;32mreturn\u001b[0m \u001b[0mpreply\u001b[0m\u001b[0;34m\u001b[0m\u001b[0m\n\u001b[1;32m     31\u001b[0m \u001b[0;34m\u001b[0m\u001b[0m\n",
      "\u001b[0;32m~/gitclonetemp/PylonTechBattery/pylonpacket.py\u001b[0m in \u001b[0;36mParse\u001b[0;34m(ascii, packet_type)\u001b[0m\n\u001b[1;32m    102\u001b[0m         \u001b[0;31m#logging.debug(\"Value to decode is %s\",ascii)\u001b[0m\u001b[0;34m\u001b[0m\u001b[0;34m\u001b[0m\u001b[0m\n\u001b[1;32m    103\u001b[0m         \u001b[0;32mif\u001b[0m \u001b[0mascii\u001b[0m\u001b[0;34m[\u001b[0m\u001b[0;36m0\u001b[0m\u001b[0;34m]\u001b[0m \u001b[0;34m!=\u001b[0m \u001b[0;36m0x7E\u001b[0m \u001b[0;32mor\u001b[0m \u001b[0mascii\u001b[0m\u001b[0;34m[\u001b[0m\u001b[0;34m-\u001b[0m\u001b[0;36m1\u001b[0m\u001b[0;34m]\u001b[0m \u001b[0;34m!=\u001b[0m \u001b[0;36m0x0D\u001b[0m\u001b[0;34m:\u001b[0m\u001b[0;34m\u001b[0m\u001b[0m\n\u001b[0;32m--> 104\u001b[0;31m             \u001b[0;32mraise\u001b[0m \u001b[0mValueError\u001b[0m\u001b[0;34m(\u001b[0m\u001b[0;34m\"Invalid packet format\"\u001b[0m\u001b[0;34m)\u001b[0m\u001b[0;34m\u001b[0m\u001b[0m\n\u001b[0m\u001b[1;32m    105\u001b[0m         \u001b[0mcontent\u001b[0m\u001b[0;34m=\u001b[0m\u001b[0mascii\u001b[0m\u001b[0;34m[\u001b[0m\u001b[0;36m1\u001b[0m\u001b[0;34m:\u001b[0m\u001b[0;34m-\u001b[0m\u001b[0;36m1\u001b[0m\u001b[0;34m]\u001b[0m\u001b[0;34m.\u001b[0m\u001b[0mdecode\u001b[0m\u001b[0;34m(\u001b[0m\u001b[0;34m)\u001b[0m\u001b[0;34m\u001b[0m\u001b[0m\n\u001b[1;32m    106\u001b[0m         \u001b[0mlogging\u001b[0m\u001b[0;34m.\u001b[0m\u001b[0mdebug\u001b[0m\u001b[0;34m(\u001b[0m\u001b[0;34m\"Content of packet: %s\"\u001b[0m\u001b[0;34m,\u001b[0m\u001b[0mcontent\u001b[0m\u001b[0;34m)\u001b[0m\u001b[0;34m\u001b[0m\u001b[0m\n",
      "\u001b[0;31mValueError\u001b[0m: Invalid packet format"
     ]
    }
   ],
   "source": [
    "pc = PylonCom()\n",
    "\n",
    "ppIn=pylonpacket.PPGetManufacturerInfo()\n",
    "print(\"Get manufacturer info:\",ppIn)\n",
    "ppOut=pc.GetReply(ppIn, pylonpacket.PPManufacturerInfo)\n",
    "print(\"Get manufacturer info reply:\",ppOut)"
   ]
  },
  {
   "cell_type": "code",
   "execution_count": 36,
   "metadata": {},
   "outputs": [],
   "source": [
    "PORT = \"/dev/ttyUSB0\"\n",
    "BAUD = 115200\n",
    "    \n",
    "sp = serial.Serial(PORT,BAUD,timeout=0.5)"
   ]
  },
  {
   "cell_type": "code",
   "execution_count": 37,
   "metadata": {},
   "outputs": [
    {
     "data": {
      "text/plain": [
       "Serial<id=0xae6c0b2c, open=True>(port='/dev/ttyUSB0', baudrate=115200, bytesize=8, parity='N', stopbits=1, timeout=0.5, xonxoff=False, rtscts=False, dsrdtr=False)"
      ]
     },
     "execution_count": 37,
     "metadata": {},
     "output_type": "execute_result"
    }
   ],
   "source": [
    "sp\n"
   ]
  }
 ],
 "metadata": {
  "hide_input": false,
  "kernelspec": {
   "display_name": "Python 3",
   "language": "python",
   "name": "python3"
  },
  "language_info": {
   "codemirror_mode": {
    "name": "ipython",
    "version": 3
   },
   "file_extension": ".py",
   "mimetype": "text/x-python",
   "name": "python",
   "nbconvert_exporter": "python",
   "pygments_lexer": "ipython3",
   "version": "3.6.3"
  },
  "toc": {
   "base_numbering": 1,
   "nav_menu": {},
   "number_sections": true,
   "sideBar": true,
   "skip_h1_title": false,
   "title_cell": "Table of Contents",
   "title_sidebar": "Contents",
   "toc_cell": false,
   "toc_position": {},
   "toc_section_display": true,
   "toc_window_display": false
  },
  "varInspector": {
   "cols": {
    "lenName": 16,
    "lenType": 16,
    "lenVar": 40
   },
   "kernels_config": {
    "python": {
     "delete_cmd_postfix": "",
     "delete_cmd_prefix": "del ",
     "library": "var_list.py",
     "varRefreshCmd": "print(var_dic_list())"
    },
    "r": {
     "delete_cmd_postfix": ") ",
     "delete_cmd_prefix": "rm(",
     "library": "var_list.r",
     "varRefreshCmd": "cat(var_dic_list()) "
    }
   },
   "types_to_exclude": [
    "module",
    "function",
    "builtin_function_or_method",
    "instance",
    "_Feature"
   ],
   "window_display": false
  }
 },
 "nbformat": 4,
 "nbformat_minor": 2
}
