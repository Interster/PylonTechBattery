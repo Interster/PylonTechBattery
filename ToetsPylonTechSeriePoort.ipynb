{
 "cells": [
  {
   "cell_type": "code",
   "execution_count": 17,
   "metadata": {
    "scrolled": true
   },
   "outputs": [
    {
     "name": "stdout",
     "output_type": "stream",
     "text": [
      "2352\n",
      "0.98\n",
      "49000\n"
     ]
    }
   ],
   "source": [
    "\n",
    "print(49*48)\n",
    "print(2.352/2.4)\n",
    "print(int('0xBF68',0))"
   ]
  },
  {
   "cell_type": "code",
   "execution_count": 1,
   "metadata": {},
   "outputs": [
    {
     "name": "stdout",
     "output_type": "stream",
     "text": [
      "/dev/ttyUSB0\n"
     ]
    }
   ],
   "source": [
    "# Toets basiese skryf na die seriepoort\n",
    "import serial\n",
    "ser = serial.Serial('/dev/ttyUSB0')  # open serial port\n",
    "print(ser.name)         # check which port was really used\n",
    "#ser.write(b'hello')     # write a string\n",
    "ser.close()             # close port"
   ]
  },
  {
   "cell_type": "code",
   "execution_count": 2,
   "metadata": {},
   "outputs": [
    {
     "name": "stdout",
     "output_type": "stream",
     "text": [
      "b''\n"
     ]
    }
   ],
   "source": [
    "# Probeer 1200 baud en 115200\n",
    "with serial.Serial('/dev/ttyUSB0', 1200, timeout=1) as ser:\n",
    "    x = ser.read()          # read one byte\n",
    "    s = ser.read(10)        # read up to ten bytes (timeout)\n",
    "    #line = ser.readline()   # read a '\\n' terminated line\n",
    "    \n",
    "print(s)"
   ]
  },
  {
   "cell_type": "code",
   "execution_count": 4,
   "metadata": {},
   "outputs": [
    {
     "name": "stdout",
     "output_type": "stream",
     "text": [
      "b'\\x02\\x81\\xe1\\xb1'\n"
     ]
    }
   ],
   "source": [
    "from binascii import unhexlify\n",
    "string='0281E1B1'\n",
    "print(unhexlify(string))"
   ]
  },
  {
   "cell_type": "code",
   "execution_count": 30,
   "metadata": {},
   "outputs": [
    {
     "name": "stdout",
     "output_type": "stream",
     "text": [
      "Greepstring\n",
      "b'~20014600F07A11010F0DE30DE30DD20DE30DE30DE40DE30DE20DE90DE70DDB0DE80DE70DE90DE7050BF50BC30BC30BC30BC30000D051FFFF04FFFF000F012110012110E20F\\r'\n",
      "Heksadesimale string\n",
      "7e3230303134363030463037413131303130463044453330444533304444323044453330444533304445343044453330444532304445393044453730444442304445383044453730444539304445373035304246353042433330424333304243333042433330303030443035314646464630344646464630303046303132313130303132313130453230460d\n"
     ]
    }
   ],
   "source": [
    "from binascii import unhexlify\n",
    "\n",
    "# Opdrag vanaf paragraaf 5 in seriepoort handleiding\n",
    "bytestosend = '7E3230303134363432453030323031464433350D'\n",
    "\n",
    "# Probeer 1200 baud en 115200\n",
    "with serial.Serial('/dev/ttyUSB0', 1200, timeout=5.0) as ser:\n",
    "    x = ser.write(unhexlify(bytestosend)) # Stuur opdrag na die battery\n",
    "    \n",
    "    uitstring = ser.read(1000)\n",
    "\n",
    "# Druk die greepstring (bytestring)\n",
    "print('Greepstring')\n",
    "print(uitstring)\n",
    "\n",
    "# Skakel die greepstring om na heksadesimale string\n",
    "print('Heksadesimale string')\n",
    "a = uitstring.hex()\n",
    "print(a)    \n"
   ]
  },
  {
   "cell_type": "code",
   "execution_count": 17,
   "metadata": {},
   "outputs": [
    {
     "name": "stdout",
     "output_type": "stream",
     "text": [
      "Heksadesimale string:  aantal selle\n",
      "04\n",
      "Heksadesimale string:  aantal selle\n",
      "32\n",
      "2\n",
      "BF68\n",
      "49000\n"
     ]
    }
   ],
   "source": [
    "# Deel die heks uitstring op in die dele wat die data bevat soos \n",
    "# die hoeveelheid energie oor in battery\n",
    "\n",
    "print('Heksadesimale ASCII waarde:  aantal selle')\n",
    "print(a[17:19])\n",
    "print('Heksadesimale string:  aantal selle')\n",
    "print(a[2:4])\n",
    "print('Desimale string:  aantal selle')\n",
    "print(bytearray.fromhex(a[2:4]).decode())\n",
    "\n",
    "getalinheks = bytearray.fromhex(\"42463638\").decode()\n",
    "print(getalinheks)\n",
    "print(int(getalinheks, 16))"
   ]
  },
  {
   "cell_type": "code",
   "execution_count": null,
   "metadata": {},
   "outputs": [],
   "source": []
  }
 ],
 "metadata": {
  "hide_input": false,
  "kernelspec": {
   "display_name": "Python 3",
   "language": "python",
   "name": "python3"
  },
  "language_info": {
   "codemirror_mode": {
    "name": "ipython",
    "version": 3
   },
   "file_extension": ".py",
   "mimetype": "text/x-python",
   "name": "python",
   "nbconvert_exporter": "python",
   "pygments_lexer": "ipython3",
   "version": "3.6.3"
  },
  "toc": {
   "base_numbering": 1,
   "nav_menu": {},
   "number_sections": true,
   "sideBar": true,
   "skip_h1_title": false,
   "title_cell": "Table of Contents",
   "title_sidebar": "Contents",
   "toc_cell": false,
   "toc_position": {},
   "toc_section_display": true,
   "toc_window_display": false
  },
  "varInspector": {
   "cols": {
    "lenName": 16,
    "lenType": 16,
    "lenVar": 40
   },
   "kernels_config": {
    "python": {
     "delete_cmd_postfix": "",
     "delete_cmd_prefix": "del ",
     "library": "var_list.py",
     "varRefreshCmd": "print(var_dic_list())"
    },
    "r": {
     "delete_cmd_postfix": ") ",
     "delete_cmd_prefix": "rm(",
     "library": "var_list.r",
     "varRefreshCmd": "cat(var_dic_list()) "
    }
   },
   "types_to_exclude": [
    "module",
    "function",
    "builtin_function_or_method",
    "instance",
    "_Feature"
   ],
   "window_display": false
  }
 },
 "nbformat": 4,
 "nbformat_minor": 2
}
